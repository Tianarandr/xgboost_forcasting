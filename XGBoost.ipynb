{
  "nbformat": 4,
  "nbformat_minor": 0,
  "metadata": {
    "colab": {
      "name": "XGBoost.ipynb",
      "provenance": [],
      "collapsed_sections": [],
      "mount_file_id": "1RmIq4ELVdHnInzSC6aInVehLFnCaQ-2P",
      "authorship_tag": "ABX9TyMEMQLY1QmoIW3WSAfzT0dE",
      "include_colab_link": true
    },
    "kernelspec": {
      "name": "python3",
      "display_name": "Python 3"
    },
    "language_info": {
      "name": "python"
    }
  },
  "cells": [
    {
      "cell_type": "markdown",
      "metadata": {
        "id": "view-in-github",
        "colab_type": "text"
      },
      "source": [
        "<a href=\"https://colab.research.google.com/github/Tianarandr/xgboost_forcasting/blob/master/XGBoost.ipynb\" target=\"_parent\"><img src=\"https://colab.research.google.com/assets/colab-badge.svg\" alt=\"Open In Colab\"/></a>"
      ]
    },
    {
      "cell_type": "code",
      "execution_count": null,
      "metadata": {
        "colab": {
          "base_uri": "https://localhost:8080/"
        },
        "id": "mHz4cqLUSBHc",
        "outputId": "39b7bf9d-a72a-41c2-cc0c-1feb4bca476d"
      },
      "outputs": [
        {
          "output_type": "stream",
          "name": "stdout",
          "text": [
            "xgboost 0.90\n"
          ]
        }
      ],
      "source": [
        "import xgboost\n",
        "import numpy as np\n",
        "import pandas as pd\n",
        "import csv\n",
        "import tensorflow as tf\n",
        "import random\n",
        "import matplotlib.pyplot as plt\n",
        "import seaborn as sns\n",
        "print(\"xgboost\", xgboost.__version__)"
      ]
    },
    {
      "cell_type": "code",
      "source": [
        "#sudo pip install xgboost"
      ],
      "metadata": {
        "id": "-eGkJOY0SMws"
      },
      "execution_count": null,
      "outputs": []
    },
    {
      "cell_type": "code",
      "source": [
        "#df = pd.read_csv('https://raw.githubusercontent.com/jbrownlee/Datasets/master/shampoo.csv', error_bad_lines=False)\n",
        "df = pd.read_csv('https://raw.githubusercontent.com/jbrownlee/Datasets/master/daily-total-female-births.csv', error_bad_lines=False)\n"
      ],
      "metadata": {
        "colab": {
          "base_uri": "https://localhost:8080/"
        },
        "id": "iuXQASzaTBly",
        "outputId": "68cc7b77-bc64-42b2-94ab-fd6648925093"
      },
      "execution_count": null,
      "outputs": [
        {
          "output_type": "stream",
          "name": "stderr",
          "text": [
            "/usr/local/lib/python3.7/dist-packages/IPython/core/interactiveshell.py:2882: FutureWarning: The error_bad_lines argument has been deprecated and will be removed in a future version.\n",
            "\n",
            "\n",
            "  exec(code_obj, self.user_global_ns, self.user_ns)\n"
          ]
        }
      ]
    },
    {
      "cell_type": "code",
      "source": [
        "# load and plot the time series dataset\n",
        "from pandas import read_csv\n",
        "from matplotlib import pyplot\n",
        "# load dataset\n",
        "series = pd.read_csv('./drive/MyDrive/Data/reu.csv', error_bad_lines=False)"
      ],
      "metadata": {
        "colab": {
          "base_uri": "https://localhost:8080/"
        },
        "id": "JbUgHlx-a2-7",
        "outputId": "bd737bb9-7df6-4732-d736-0beefa32d781"
      },
      "execution_count": null,
      "outputs": [
        {
          "output_type": "stream",
          "name": "stderr",
          "text": [
            "/usr/local/lib/python3.7/dist-packages/IPython/core/interactiveshell.py:2882: FutureWarning: The error_bad_lines argument has been deprecated and will be removed in a future version.\n",
            "\n",
            "\n",
            "  exec(code_obj, self.user_global_ns, self.user_ns)\n"
          ]
        }
      ]
    },
    {
      "cell_type": "code",
      "source": [
        "series.columns"
      ],
      "metadata": {
        "colab": {
          "base_uri": "https://localhost:8080/"
        },
        "id": "9nux3zrca432",
        "outputId": "962d8e05-cbc2-4229-c860-99692485b0dc"
      },
      "execution_count": null,
      "outputs": [
        {
          "output_type": "execute_result",
          "data": {
            "text/plain": [
              "Index(['date', 'expense_amount'], dtype='object')"
            ]
          },
          "metadata": {},
          "execution_count": 26
        }
      ]
    },
    {
      "cell_type": "code",
      "source": [
        "\n",
        "values = series.expense_amount\n",
        "# plot dataset\n",
        "pyplot.plot(values)\n",
        "pyplot.show()"
      ],
      "metadata": {
        "colab": {
          "base_uri": "https://localhost:8080/",
          "height": 276
        },
        "id": "6cjz513dUfDe",
        "outputId": "71d224c8-8215-4730-ce68-e05549c76da4"
      },
      "execution_count": null,
      "outputs": [
        {
          "output_type": "display_data",
          "data": {
            "text/plain": [
              "<Figure size 432x288 with 1 Axes>"
            ],
            "image/png": "[encoded data removed]"
          },
          "metadata": {
            "needs_background": "light"
          }
        }
      ]
    },
    {
      "cell_type": "markdown",
      "source": [
        ""
      ],
      "metadata": {
        "id": "AEtYzALXiBPy"
      }
    },
    {
      "cell_type": "code",
      "source": [
        "\n",
        "# forecast monthly births with xgboost\n",
        "from numpy import asarray\n",
        "from pandas import read_csv\n",
        "from pandas import DataFrame\n",
        "from pandas import concat\n",
        "from sklearn.metrics import mean_absolute_error\n",
        "from xgboost import XGBRegressor\n",
        "from matplotlib import pyplot\n",
        " \n",
        "# transform a time series dataset into a supervised learning dataset\n",
        "def series_to_supervised(data, n_in=1, n_out=1, dropnan=True):\n",
        "\tn_vars = 1 if type(data) is list else data.shape[1]\n",
        "\tdf = DataFrame(data)\n",
        "\tcols = list()\n",
        "\t# input sequence (t-n, ... t-1)\n",
        "\tfor i in range(n_in, 0, -1):\n",
        "\t\tcols.append(df.shift(i))\n",
        "\t# forecast sequence (t, t+1, ... t+n)\n",
        "\tfor i in range(0, n_out):\n",
        "\t\tcols.append(df.shift(-i))\n",
        "\t# put it all together\n",
        "\tagg = concat(cols, axis=1)\n",
        "\t# drop rows with NaN values\n",
        "\tif dropnan:\n",
        "\t\tagg.dropna(inplace=True)\n",
        "\treturn agg.values\n",
        " \n",
        "# split a univariate dataset into train/test sets\n",
        "def train_test_split(data, n_test):\n",
        "\treturn data[:-n_test, :], data[-n_test:, :]\n",
        " \n",
        "# fit an xgboost model and make a one step prediction\n",
        "def xgboost_forecast(train, testX):\n",
        "\t# transform list into array\n",
        "\ttrain = asarray(train)\n",
        "\t# split into input and output columns\n",
        "\ttrainX, trainy = train[:, :-1], train[:, -1]\n",
        "\t# fit model\n",
        "\tmodel = XGBRegressor(objective='reg:squarederror', n_estimators=1000)\n",
        "\tmodel.fit(trainX, trainy)\n",
        "\t# make a one-step prediction\n",
        "\tyhat = model.predict(asarray([testX]))\n",
        "\treturn yhat[0]\n",
        " \n",
        "# walk-forward validation for univariate data\n",
        "def walk_forward_validation(data, n_test):\n",
        "\tpredictions = list()\n",
        "\t# split dataset\n",
        "\ttrain, test = train_test_split(data, n_test)\n",
        "\t# seed history with training dataset\n",
        "\thistory = [x for x in train]\n",
        "\t# step over each time-step in the test set\n",
        "\tfor i in range(len(test)):\n",
        "\t\t# split test row into input and output columns\n",
        "\t\ttestX, testy = test[i, :-1], test[i, -1]\n",
        "\t\t# fit model on history and make a prediction\n",
        "\t\tyhat = xgboost_forecast(history, testX)\n",
        "\t\t# store forecast in list of predictions\n",
        "\t\tpredictions.append(yhat)\n",
        "\t\t# add actual observation to history for the next loop\n",
        "\t\thistory.append(test[i])\n",
        "\t\t# summarize progress\n",
        "\t\tprint('>expected=%.1f, predicted=%.1f' % (testy, yhat))\n",
        "\t# estimate prediction error\n",
        "\terror = mean_absolute_error(test[:, -1], predictions)\n",
        "\treturn error, test[:, -1], predictions\n",
        " \n"
      ],
      "metadata": {
        "id": "JUsJ9gvSVJsp"
      },
      "execution_count": null,
      "outputs": []
    },
    {
      "cell_type": "code",
      "source": [
        "df = pd.read_csv('./drive/MyDrive/Data/reu.csv', header=0, index_col=0)\n",
        "train = df[12:] "
      ],
      "metadata": {
        "id": "c1n0KblWiG6X"
      },
      "execution_count": null,
      "outputs": []
    },
    {
      "cell_type": "code",
      "source": [
        "train.head"
      ],
      "metadata": {
        "colab": {
          "base_uri": "https://localhost:8080/"
        },
        "id": "pCPB1QxaiOl_",
        "outputId": "588fe5c4-2ea7-4014-fad0-9e606cf51b41"
      },
      "execution_count": null,
      "outputs": [
        {
          "output_type": "execute_result",
          "data": {
            "text/plain": [
              "<bound method NDFrame.head of             expense_amount\n",
              "date                      \n",
              "2020-01-31      3899020.74\n",
              "2020-02-28      3152384.45\n",
              "2020-03-31      2792221.64\n",
              "2020-04-30      2166178.85\n",
              "2020-05-31      1221850.70\n",
              "2020-06-30      -463683.06\n",
              "2020-07-31      4334905.98\n",
              "2020-08-31      3509899.99\n",
              "2020-09-30      1372597.60\n",
              "2020-10-31      4831592.59\n",
              "2020-11-30      1264795.96\n",
              "2020-12-31     -6513874.90\n",
              "2021-01-31      3182276.00\n",
              "2021-02-28      4849701.48\n",
              "2021-03-31      3019037.13\n",
              "2021-04-30      5802868.26\n",
              "2021-05-31      5916181.45\n",
              "2021-06-30      1949195.95\n",
              "2021-07-31      8974672.60\n",
              "2021-08-31      4744777.67\n",
              "2021-09-30      4647456.72\n",
              "2021-10-31      6656905.80\n",
              "2021-11-30      5117520.60\n",
              "2021-12-31      7730533.50>"
            ]
          },
          "metadata": {},
          "execution_count": 79
        }
      ]
    },
    {
      "cell_type": "code",
      "source": [
        "# load the dataset\n",
        "#./drive/MyDrive/Data/sentiment-tweets.csv\n",
        "#series = pd.read_csv('https://raw.githubusercontent.com/jbrownlee/Datasets/master/daily-total-female-births.csv', header=0, index_col=0)\n",
        "series = pd.read_csv('./drive/MyDrive/Data/reu.csv', header=0, index_col=0)\n",
        "series = series[12:] \n",
        "values = series.values\n",
        "print(values.shape)\n",
        "# transform the time series data into supervised learning\n",
        "data = series_to_supervised(values, n_in=6)\n",
        "# evaluate\n",
        "mae, y, yhat = walk_forward_validation(data, 15)\n",
        "print('MAE: %.3f' % mae)\n",
        "# plot expected vs preducted\n",
        "pyplot.plot(y, label='Expected')\n",
        "pyplot.plot(yhat, label='Predicted')\n",
        "pyplot.legend()\n",
        "pyplot.show()\n",
        "\n"
      ],
      "metadata": {
        "colab": {
          "base_uri": "https://localhost:8080/",
          "height": 626
        },
        "id": "aRgLJ5H7VQub",
        "outputId": "601f15b1-2c2a-4aa8-d986-39534836806b"
      },
      "execution_count": null,
      "outputs": [
        {
          "output_type": "stream",
          "name": "stdout",
          "text": [
            "(24, 1)\n",
            ">expected=4831592.6, predicted=1372597.2\n"
          ]
        },
        {
          "output_type": "stream",
          "name": "stderr",
          "text": [
            "/usr/local/lib/python3.7/dist-packages/xgboost/core.py:613: UserWarning: Use subset (sliced data) of np.ndarray is not recommended because it will generate extra copies and increase memory consumption\n",
            "  warnings.warn(\"Use subset (sliced data) of np.ndarray is not recommended \" +\n"
          ]
        },
        {
          "output_type": "stream",
          "name": "stdout",
          "text": [
            ">expected=1264796.0, predicted=4831587.0\n",
            ">expected=-6513874.9, predicted=2174487.2\n",
            ">expected=3182276.0, predicted=4336433.5\n",
            ">expected=4849701.5, predicted=3524684.0\n",
            ">expected=3019037.1, predicted=1255847.2\n",
            ">expected=5802868.3, predicted=2238352.2\n",
            ">expected=5916181.5, predicted=1264405.4\n",
            ">expected=1949195.9, predicted=-6370904.5\n",
            ">expected=8974672.6, predicted=3955709.0\n",
            ">expected=4744777.7, predicted=6734101.5\n",
            ">expected=4647456.7, predicted=8421140.0\n",
            ">expected=6656905.8, predicted=7255255.5\n",
            ">expected=5117520.6, predicted=5328448.5\n",
            ">expected=7730533.5, predicted=4830912.5\n",
            "MAE: 3398918.349\n"
          ]
        },
        {
          "output_type": "display_data",
          "data": {
            "text/plain": [
              "<Figure size 432x288 with 1 Axes>"
            ],
            "image/png": "[encoded data removed]"
          },
          "metadata": {
            "needs_background": "light"
          }
        }
      ]
    },
    {
      "cell_type": "code",
      "source": [
        "# load the dataset\n",
        "#series = read_csv('https://raw.githubusercontent.com/jbrownlee/Datasets/master/daily-total-female-births.csv', header=0, index_col=0)\n",
        "series = pd.read_csv('./drive/MyDrive/Data/reu.csv', header=0, index_col=0)\n",
        "series = series[12:] \n",
        "values = series.values\n",
        "# transform the time series data into supervised learning\n",
        "train = series_to_supervised(values, n_in=6)\n",
        "# split into input and output columns\n",
        "trainX, trainy = train[:, :-1], train[:, -1]\n",
        "# fit model\n",
        "model = XGBRegressor(objective='reg:squarederror', n_estimators=1000)\n",
        "model.fit(trainX, trainy)\n",
        "# construct an input for a new preduction\n",
        "row = values[-6:].flatten()\n",
        "# make a one-step prediction\n",
        "yhat = model.predict(asarray([row]))\n",
        "print('Input: %s, Predicted: %.3f' % (row, yhat[0]))"
      ],
      "metadata": {
        "colab": {
          "base_uri": "https://localhost:8080/"
        },
        "id": "q0AqTTIMYanS",
        "outputId": "c5505709-2b16-4a03-b7f4-5b58ed385aec"
      },
      "execution_count": null,
      "outputs": [
        {
          "output_type": "stream",
          "name": "stdout",
          "text": [
            "Input: [8974672.6  4744777.67 4647456.72 6656905.8  5117520.6  7730533.5 ], Predicted: 6879462.500\n"
          ]
        }
      ]
    },
    {
      "cell_type": "markdown",
      "source": [
        "PREDICTION"
      ],
      "metadata": {
        "id": "GWjp5vsrkGvP"
      }
    },
    {
      "cell_type": "code",
      "source": [
        "predictions_xgb = reg.predict(X_test)\n",
        "predictions_xgb = pd.DataFrame({'Predictions': \\\n",
        "                                     predictions_xgb})\n",
        "result_xgb = pd.concat( \\\n",
        "                       [dataXGB.tail(len(X_test)) \\\n",
        "                               .reset_index(drop=True), \\\n",
        "                        predictions_xgb], axis=1)\n",
        "print (result_xgb)"
      ],
      "metadata": {
        "id": "i7Oy_tCpj8q1"
      },
      "execution_count": null,
      "outputs": []
    },
    {
      "cell_type": "code",
      "source": [
        "plt.figure(figsize=(12,8))\n",
        "plt.plot(train.Month, train.Sales, label='Train')\n",
        "plt.plot(test.Month, test.Sales, label='Test')\n",
        "plt.plot(result_sarima.Month, result_sarima.Predictions, label='Prediction')\n",
        "plt.xticks(df[\"Month\"], df[\"Month\"], rotation='vertical')\n",
        "plt.legend(loc='best')\n",
        "plt.title(\"Predictions by AutoRegressive (AR) model\")\n",
        "plt.show()"
      ],
      "metadata": {
        "id": "fCh__JLbj9Ei"
      },
      "execution_count": null,
      "outputs": []
    },
    {
      "cell_type": "code",
      "source": [
        "# transform a time series dataset into a supervised learning dataset\n",
        "def series_to_supervised(data, n_in=1, n_out=1, dropnan=True):\n",
        "\tn_vars = 1 if type(data) is list else data.shape[1]\n",
        "\tdf = DataFrame(data)\n",
        "\tcols = list()\n",
        "\t# input sequence (t-n, ... t-1)\n",
        "\tfor i in range(n_in, 0, -1):\n",
        "\t\tcols.append(df.shift(i))\n",
        "\t# forecast sequence (t, t+1, ... t+n)\n",
        "\tfor i in range(0, n_out):\n",
        "\t\tcols.append(df.shift(-i))\n",
        "\t# put it all together\n",
        "\tagg = concat(cols, axis=1)\n",
        "\t# drop rows with NaN values\n",
        "\tif dropnan:\n",
        "\t\tagg.dropna(inplace=True)\n",
        "\treturn agg.values"
      ],
      "metadata": {
        "id": "l2MJWABfSOrs"
      },
      "execution_count": null,
      "outputs": []
    },
    {
      "cell_type": "code",
      "source": [
        "\n",
        "# walk-forward validation for univariate data\n",
        "def walk_forward_validation(data, n_test):\n",
        "\tpredictions = list()\n",
        "\t# split dataset\n",
        "\ttrain, test = train_test_split(data, n_test)\n",
        "\t# seed history with training dataset\n",
        "\thistory = [x for x in train]\n",
        "\t# step over each time-step in the test set\n",
        "\tfor i in range(len(test)):\n",
        "\t\t# split test row into input and output columns\n",
        "\t\ttestX, testy = test[i, :-1], test[i, -1]\n",
        "\t\t# fit model on history and make a prediction\n",
        "\t\tyhat = xgboost_forecast(history, testX)\n",
        "\t\t# store forecast in list of predictions\n",
        "\t\tpredictions.append(yhat)\n",
        "\t\t# add actual observation to history for the next loop\n",
        "\t\thistory.append(test[i])\n",
        "\t\t# summarize progress\n",
        "\t\tprint('>expected=%.1f, predicted=%.1f' % (testy, yhat))\n",
        "\t# estimate prediction error\n",
        "\terror = mean_absolute_error(test[:, -1], predictions)\n",
        "\treturn error, test[:, 1], predictions"
      ],
      "metadata": {
        "id": "kVypij4hTES-"
      },
      "execution_count": null,
      "outputs": []
    },
    {
      "cell_type": "code",
      "source": [
        "\n",
        "# split a univariate dataset into train/test sets\n",
        "def train_test_split(data, n_test):\n",
        "\treturn data[:-n_test, :], data[-n_test:, :]"
      ],
      "metadata": {
        "id": "4Mvwea8xT28k"
      },
      "execution_count": null,
      "outputs": []
    },
    {
      "cell_type": "code",
      "source": [
        "# fit an xgboost model and make a one step prediction\n",
        "def xgboost_forecast(train, testX):\n",
        "\t# transform list into array\n",
        "\ttrain = asarray(train)\n",
        "\t# split into input and output columns\n",
        "\ttrainX, trainy = train[:, :-1], train[:, -1]\n",
        "\t# fit model\n",
        "\tmodel = XGBRegressor(objective='reg:squarederror', n_estimators=1000)\n",
        "\tmodel.fit(trainX, trainy)\n",
        "\t# make a one-step prediction\n",
        "\tyhat = model.predict([testX])\n",
        "\treturn yhat[0]"
      ],
      "metadata": {
        "id": "_6K-hrw-T8rc"
      },
      "execution_count": null,
      "outputs": []
    }
  ]
}